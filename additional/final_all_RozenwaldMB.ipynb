{
 "cells": [
  {
   "cell_type": "markdown",
   "metadata": {},
   "source": [
    "## Курсовой проект: рекламный сервер\n",
    "### Финальный отчёт\n",
    "## Розенвальд Михаль\n",
    "### 141"
   ]
  },
  {
   "cell_type": "code",
   "execution_count": 1,
   "metadata": {
    "collapsed": true
   },
   "outputs": [],
   "source": [
    "%matplotlib inline\n",
    "import matplotlib.pyplot as plt\n",
    "import pandas as pd\n",
    "import numpy as np\n",
    "from math import sin, cos, sqrt, log, e\n",
    "import os.path\n",
    "import parser\n",
    "import errno\n"
   ]
  },
  {
   "cell_type": "markdown",
   "metadata": {},
   "source": [
    "### Класс функций полином. На примере полиномов будем рассматривать поведение гладких функций. "
   ]
  },
  {
   "cell_type": "code",
   "execution_count": 2,
   "metadata": {
    "collapsed": true
   },
   "outputs": [],
   "source": [
    "class Polynomial(object):\n",
    "    def __init__(self, coefficients):\n",
    "        self.coeff = coefficients\n",
    "        while(len(self.coeff) < 7):\n",
    "            self.coeff.append(0)\n",
    "\n",
    "    def __call__(self, x):\n",
    "        # Return polinomial value\n",
    "        s = 0\n",
    "        for i in range(len(self.coeff)):\n",
    "            s += int(self.coeff[i])*x**i\n",
    "        return s\n",
    "\n",
    "    def PolyPrint(self):\n",
    "        if (len(self.coeff) == 0):\n",
    "            return ('Empty function')\n",
    "        poly_string = ''\n",
    "        for i in range(len(self.coeff) - 1, 0, -1):\n",
    "            if (self.coeff[i] != 0):\n",
    "                poly_string += str(self.coeff[i]) + 'x^' + str(i) +' + '\n",
    "        poly_string += str(self.coeff[0])\n",
    "\n",
    "        return (poly_string)\n",
    "\n",
    "    def __mul__(self, num):\n",
    "        result_coeff = list(map(int, self.coeff[:])) # copy!\n",
    "        for i in range(len(self.coeff)):\n",
    "            result_coeff[i] *= num\n",
    "        return Polynomial(result_coeff)\n",
    "\n",
    "\n",
    "    def __add__(self, other):\n",
    "        # Return self + other as Polynomial object\n",
    "        # Start with the longest list and add in the other\n",
    "        if len(self.coeff) > len(other.coeff):\n",
    "            result_coeff = list(map(int, self.coeff[:]))  # copy\n",
    "            for i in range(len(other.coeff)):\n",
    "                result_coeff[i] += int(other.coeff[i])\n",
    "        else:\n",
    "            result_coeff = list(map(int, other.coeff[:])) # copy\n",
    "            for i in range(len(self.coeff)):\n",
    "                result_coeff[i] += int(self.coeff[i])\n",
    "        return Polynomial(result_coeff)\n",
    "    \n",
    "    def differ_max(self):\n",
    "        # only for polinoms with degree <= 2\n",
    "        x_max = - float(self.coeff[1]) / (2*self.coeff[0])\n",
    "        return self.coeff[1] + 2 * self.coeff[1] * x_max\n",
    "    \n",
    "    def lambda_func(self):\n",
    "        # only for polinoms with degree <= 2\n",
    "        #if (self.coeff.size() = 2) { self.coeff}\n",
    "        return lambda x: self.coeff[0] + x * self.coeff[1] + x * x * self.coeff[2] + x * x * x * self.coeff[3] + (x**4)*self.coeff[4] + (x**5)*self.coeff[5]\n",
    "    \n",
    "    def lambda_func_ans(self, x):\n",
    "        # only for polinoms with degree <= 2\n",
    "        return self.coeff[0] + x * self.coeff[1]\n"
   ]
  },
  {
   "cell_type": "code",
   "execution_count": 3,
   "metadata": {
    "collapsed": false
   },
   "outputs": [
    {
     "name": "stdout",
     "output_type": "stream",
     "text": [
      "6x^5 + 5x^4 + 4x^3 + 3x^2 + 2x^1 + 1\n",
      "poly(0) =  1\n",
      "poly(1) =  21\n"
     ]
    }
   ],
   "source": [
    "poly = Polynomial([1,2,3,4,5,6])\n",
    "print poly.PolyPrint()\n",
    "print 'poly(0) = ', poly(0)\n",
    "print 'poly(1) = ',poly(1)\n",
    "\n",
    "#Interpolate_compare(poly, -10, 10, 10, True)"
   ]
  },
  {
   "cell_type": "code",
   "execution_count": 4,
   "metadata": {
    "collapsed": true
   },
   "outputs": [],
   "source": [
    "\n",
    "class Oscillation_sin(object):\n",
    "    # f(x) = x * sin(x)\n",
    "    def __init__(self):\n",
    "        self.coeff = 1\n",
    "        \n",
    "    def __call__(self, x):\n",
    "        # Return Oscillation_sin value\n",
    "        s = x * np.sin(x)\n",
    "        return s\n",
    "    \n",
    "    def OscPrint(self):\n",
    "        osc_string = \"x * sin(x)\"\n",
    "        return (osc_string)\n",
    "    \n",
    "    def differ_max(self):\n",
    "        return 1.819  # when x in [-5, 5]\n",
    "    \n",
    "    def lambda_func(self):\n",
    "        return lambda x: x * np.sin(x)\n",
    "\n"
   ]
  },
  {
   "cell_type": "code",
   "execution_count": 5,
   "metadata": {
    "collapsed": false
   },
   "outputs": [
    {
     "name": "stdout",
     "output_type": "stream",
     "text": [
      "x * sin(x)\n",
      "osc(0) =  0.0\n",
      "osc(1) =  0.841470984808\n"
     ]
    }
   ],
   "source": [
    "osc = Oscillation_sin()\n",
    "print osc.OscPrint()\n",
    "print 'osc(0) = ', osc(0)\n",
    "print 'osc(1) = ', osc(1)"
   ]
  },
  {
   "cell_type": "markdown",
   "metadata": {},
   "source": [
    "Разрывные функции будем задавать кусочно, как два разлиных полинома, заданных на интервалах poly_a на (-inf; x_0) и poly_b на [x_0; inf).\n",
    "\n",
    "$f(x) = \\begin{cases} a_1 x + a_0 & x < x_0 \\\\ b_1 x + b_0 & x \\geq x_0 \\end{cases}$"
   ]
  },
  {
   "cell_type": "code",
   "execution_count": 6,
   "metadata": {
    "collapsed": true
   },
   "outputs": [],
   "source": [
    "class Discontinuous(object):\n",
    "    # poly_a with coeffs (a_1, a_0) when x in  (-inf; x_0), esle - poly_b with coeffs (b_1, b_0)\n",
    "    def __init__(self, coefficients_a, coefficients_b, x_0):\n",
    "        self.coeff_a = coefficients_a\n",
    "        self.coeff_b = coefficients_b\n",
    "        self.poly_a = Polynomial(coefficients_a)\n",
    "        self.poly_b = Polynomial(coefficients_b)\n",
    "        self.x_0 = x_0\n",
    "\n",
    "    def __call__(self, x):\n",
    "        # Return polinomial value\n",
    "        if (x < self.x_0):\n",
    "            s = self.poly_a(x)\n",
    "        else:\n",
    "            s = self.poly_b(x)\n",
    "        return s\n",
    "    \n",
    "    def DiscontinPrint(self):\n",
    "        disc_string = self.poly_a.PolyPrint() + \" , x < \" + str(self.x_0) + '\\n' + self.poly_b.PolyPrint() + \" , x > \" + str(self.x_0) \n",
    "        return (disc_string)\n",
    "    \n",
    "    def differ_max(self):\n",
    "        return max( self.poly_a.differ_max(), self.poly_b.differ_max())\n",
    "    \n",
    "    def lambda_func(self):\n",
    "        return lambda x: (self.poly_a.coeff[0] + x * self.poly_a.coeff[0]) if x < self.x_0 else (self.poly_b.coeff[0] + x * self.poly_b.coeff[0])\n",
    "    "
   ]
  },
  {
   "cell_type": "code",
   "execution_count": 7,
   "metadata": {
    "collapsed": false
   },
   "outputs": [
    {
     "name": "stdout",
     "output_type": "stream",
     "text": [
      "disc function : \n",
      "2x^1 + 1 , x < 0\n",
      "3x^1 + 2 , x > 0\n",
      "disc(0) =  2\n",
      "disc(-0.1) =  0.8\n",
      "disc(0.1) =  2.3\n"
     ]
    }
   ],
   "source": [
    "disc = Discontinuous([1, 2], [2, 3], 0)\n",
    "print 'disc function : \\n', disc.DiscontinPrint()\n",
    "print 'disc(0) = ', disc(0)\n",
    "print 'disc(-0.1) = ', disc(-0.1)\n",
    "print 'disc(0.1) = ', disc(0.1)"
   ]
  },
  {
   "cell_type": "markdown",
   "metadata": {},
   "source": [
    "## Введем классы для функций системы"
   ]
  },
  {
   "cell_type": "code",
   "execution_count": 25,
   "metadata": {
    "collapsed": true
   },
   "outputs": [],
   "source": [
    "class Rho_func:\n",
    "    def __init__(self, expression):\n",
    "        self.formula = parser.expr(expression).compile()\n",
    "\n",
    "    def __call__(self, *args):\n",
    "        w = args[0]\n",
    "        return eval(self.formula)\n",
    "    \n",
    "class Sz_func:\n",
    "    def __init__(self, expression):\n",
    "        self.formula = parser.expr(expression).compile()\n",
    "\n",
    "    def __call__(self, *args):\n",
    "        t = args[0]\n",
    "        return eval(self.formula)\n",
    "    \n",
    "    \n",
    "class F_func:\n",
    "    def __init__(self, expression, beta, z_func, s_func):\n",
    "        self.formula = parser.expr(expression).compile()\n",
    "        self.beta = beta\n",
    "        self.z = z_func\n",
    "        self.s = s_func\n",
    "        \n",
    "    def __call__(self, t, x):\n",
    "        z = self.z(t)\n",
    "        S = self.s(t)\n",
    "        beta = self.beta\n",
    "        return eval(self.formula)\n",
    "\n",
    "\n",
    "class Tabulated_func:\n",
    "    def __init__(self, tabulated_values, grid):\n",
    "        self.values = tabulated_values\n",
    "        self.grid = grid\n",
    "\n",
    "    def __getitem__(self, i):\n",
    "        return self.values[i]\n",
    "\n",
    "\n",
    "class Interpolation_func:\n",
    "    def __init__(self, splines, grid):\n",
    "        self.grid = grid\n",
    "        self.splines = splines\n",
    "\n",
    "    def __call__(self, x):\n",
    "        if (x < self.grid[0]) or (x > self.grid[len(self.grid) - 1]):\n",
    "            print (x)\n",
    "            raise RuntimeError(\"x is not in domain of interpolation\")\n",
    "        for i in range(len(self.grid) - 1):\n",
    "            if (x >= self.grid[i]) & (x <= self.grid[i+1]):\n",
    "                break\n",
    "        return self.splines[i](x)\n",
    "\n",
    "class Polinomial:\n",
    "    def __init__(self, degree, coefs, x0):\n",
    "        self.degree = degree\n",
    "        self.coefs = coefs\n",
    "        self.x0 = x0\n",
    "        if degree + 1 != len(coefs):\n",
    "            raise RuntimeError(\"Polinom is initialised incorrectly\")\n",
    "\n",
    "    def __call__(self, x):\n",
    "        res = 0\n",
    "        for i in range(self.degree + 1):\n",
    "            res += self.coefs[i] * (x - self.x0)**i\n",
    "        return res\n",
    "\n",
    "class Solution:\n",
    "    \n",
    "    def __init__(self, y_tab, x_tab, S_tab, x_0, y_0, beta, C1, C2, loss):\n",
    "        self.y_tab = y_tab\n",
    "        self.x_tab = x_tab\n",
    "        self.S_tab = S_tab\n",
    "        self.x_0 = x_0\n",
    "        self.y_0 = y_0\n",
    "        self.beta = beta\n",
    "        self.C1 = C1\n",
    "        self.C2 = C2\n",
    "        self.loss = loss"
   ]
  },
  {
   "cell_type": "code",
   "execution_count": 26,
   "metadata": {
    "collapsed": true
   },
   "outputs": [],
   "source": [
    "# class FunctionRho:\n",
    "#     def __init__(self, expression):\n",
    "#         self.formula = parser.expr(expression).compile()\n",
    "\n",
    "#     def __call__(self, *args):\n",
    "#         w = args[0]\n",
    "#         return eval(self.formula)\n",
    "    \n",
    "# class FunctionSz:\n",
    "#     def __init__(self, expression):\n",
    "#         self.formula = parser.expr(expression).compile()\n",
    "\n",
    "#     def __call__(self, *args):\n",
    "#         t = args[0]\n",
    "#         return eval(self.formula)\n",
    "    \n",
    "    \n",
    "# class FunctionF:\n",
    "#     def __init__(self, expression, beta, z_func, s_func):\n",
    "#         self.formula = parser.expr(expression).compile()\n",
    "#         self.beta = beta\n",
    "#         self.z = z_func\n",
    "#         self.s = s_func\n",
    "        \n",
    "#     def __call__(self, t, x):\n",
    "#         z = self.z(t)\n",
    "#         S = self.s(t)\n",
    "#         beta = self.beta\n",
    "#         return eval(self.formula)\n",
    "\n",
    "\n",
    "# class TabulatedFunction:\n",
    "#     def __init__(self, tabulated_values, grid):\n",
    "#         self.values = tabulated_values\n",
    "#         self.grid = grid\n",
    "\n",
    "#     def __getitem__(self, i):\n",
    "#         return self.values[i]\n",
    "\n",
    "\n",
    "# class Interpolation:\n",
    "#     def __init__(self, splines, grid):\n",
    "#         self.grid = grid\n",
    "#         self.splines = splines\n",
    "\n",
    "#     def __call__(self, x):\n",
    "#         if (x < self.grid[0]) or (x > self.grid[len(self.grid) - 1]):\n",
    "#             print (x)\n",
    "#             raise RuntimeError(\"x is not in domain of interpolation\")\n",
    "#         for i in range(len(self.grid) - 1):\n",
    "#             if (x >= self.grid[i]) & (x <= self.grid[i+1]):\n",
    "#                 break\n",
    "#         return self.splines[i](x)\n",
    "\n",
    "# class Polinomial:\n",
    "#     def __init__(self, degree, coefs, x0):\n",
    "#         self.degree = degree\n",
    "#         self.coefs = coefs\n",
    "#         self.x0 = x0\n",
    "#         if degree + 1 != len(coefs):\n",
    "#             raise RuntimeError(\"Polinom is initialised incorrectly\")\n",
    "\n",
    "#     def __call__(self, x):\n",
    "#         res = 0\n",
    "#         for i in range(self.degree + 1):\n",
    "#             res += self.coefs[i] * (x - self.x0)**i\n",
    "#         return res"
   ]
  },
  {
   "cell_type": "code",
   "execution_count": null,
   "metadata": {
    "collapsed": true
   },
   "outputs": [],
   "source": []
  },
  {
   "cell_type": "code",
   "execution_count": null,
   "metadata": {
    "collapsed": true
   },
   "outputs": [],
   "source": []
  },
  {
   "cell_type": "code",
   "execution_count": null,
   "metadata": {
    "collapsed": true
   },
   "outputs": [],
   "source": []
  },
  {
   "cell_type": "code",
   "execution_count": null,
   "metadata": {
    "collapsed": true
   },
   "outputs": [],
   "source": []
  },
  {
   "cell_type": "markdown",
   "metadata": {},
   "source": [
    "# Модули\n",
    "## Табулирование\n"
   ]
  },
  {
   "cell_type": "code",
   "execution_count": 27,
   "metadata": {
    "collapsed": true
   },
   "outputs": [],
   "source": [
    "# табулированная функция\n",
    "def tabulate(function, grid):\n",
    "    values = np.array([function(x) for x in grid])\n",
    "    return Tabulated_func(values, grid)\n",
    "\n",
    "\n",
    "# def Tabulate(func, x_steps):\n",
    "#     values = []\n",
    "#     for i in range(len(x_steps)):\n",
    "#         values.append(func(x_steps[i]))\n",
    "\n",
    "#     tabu_df = pd.DataFrame(columns=('x', 'val'))\n",
    "#     tabu_df['x'] = x_steps\n",
    "#     tabu_df['val'] = values\n",
    "#     return tabu_df"
   ]
  },
  {
   "cell_type": "markdown",
   "metadata": {},
   "source": [
    "# Интегрирование методом треугольников"
   ]
  },
  {
   "cell_type": "code",
   "execution_count": 28,
   "metadata": {
    "collapsed": true
   },
   "outputs": [],
   "source": [
    "# значение интеграл\n",
    "def integrate(func, nnodes, interval):\n",
    "    xnet = np.linspace(interval[0], interval[1], nnodes)\n",
    "    I = 0\n",
    "    for i in range(nnodes - 1):\n",
    "        I += (float(xnet[i + 1] - xnet[i]) / 6) * float(func(xnet[i]) + 4 * func(0.5 * (xnet[i] + xnet[i + 1])) + func(xnet[i + 1]))\n",
    "    return I\n",
    "\n",
    "def integrate_rectangle(func, a, b, steps_number):\n",
    "    x_steps = np.linspace(a, b, num=steps_number)\n",
    "    func_tabu_df = Tabulate(func, x_steps)\n",
    "    I = 0\n",
    "    for i in range(steps_number - 1):\n",
    "        I += func_tabu_df['val'][i] * (func_tabu_df['x'][i + 1] - func_tabu_df['x'][i])\n",
    "    return I\n"
   ]
  },
  {
   "cell_type": "markdown",
   "metadata": {},
   "source": [
    "# СЛУ"
   ]
  },
  {
   "cell_type": "code",
   "execution_count": 29,
   "metadata": {
    "collapsed": true
   },
   "outputs": [],
   "source": [
    "# Корни СЛУ\n",
    "# def kramer(A, F):\n",
    "#     det = np.linalg.det(A)\n",
    "#     if not det:\n",
    "#         raise RuntimeError(\"Determinant equals to 0.\")\n",
    "#     roots = []\n",
    "#     for x in range(A.shape[1]):\n",
    "#         tmp = A.copy()\n",
    "#         tmp[:, x] = F\n",
    "#         roots.append(float(np.linalg.det(tmp)) / det)\n",
    "#     return roots\n",
    "\n",
    "\n",
    "def Det(A):\n",
    "    return np.linalg.det(A)\n",
    "def kramer(A, b):\n",
    "    det = Det(A)\n",
    "    \n",
    "    A_size = A.shape[1]\n",
    "    x = [0]*A_size\n",
    "\n",
    "    if (det != 0):\n",
    "        for i in range(A_size):\n",
    "            A_i = A.copy()\n",
    "            A_i[:, i] = b\n",
    "            det_i = float(Det(A_i))\n",
    "            x_i = det_i / det\n",
    "            x[i] = x_i\n",
    "        return x\n",
    "    \n",
    "    return \"det == 0, NO SOLUTION\""
   ]
  },
  {
   "cell_type": "markdown",
   "metadata": {},
   "source": [
    "#  Интерполяции с помощью кубических сплайнов"
   ]
  },
  {
   "cell_type": "code",
   "execution_count": 30,
   "metadata": {
    "collapsed": true
   },
   "outputs": [],
   "source": [
    "# интерполяция - callable object\n",
    "def interpolate(tabulated_function):\n",
    "\n",
    "    grid = tabulated_function.grid\n",
    "    N = len(grid) - 2\n",
    "    matrix = np.zeros((N, N))\n",
    "    values = np.zeros(N)\n",
    "    for i in range(1, N+1):\n",
    "\n",
    "        h_0 = grid[i] - grid[i-1]\n",
    "        h_1 = grid[i+1] - grid[i]\n",
    "\n",
    "        if i != 1:\n",
    "            matrix[i-1, i-2] = h_0\n",
    "        if i != N:\n",
    "            matrix[i-1, i] = h_1\n",
    "\n",
    "        matrix[i-1, i-1] = 2*(h_0 + h_1)\n",
    "        delta_1 = float(tabulated_function[i+1] - tabulated_function[i])\n",
    "        delta_0 = float(tabulated_function[i] - tabulated_function[i-1])\n",
    "        values[i-1] = 6 * (delta_1 / h_1 - delta_0 / h_0)\n",
    "    derivatives_2 = kramer(matrix, values)\n",
    "\n",
    "    splines = []\n",
    "    for i in range(N+1):\n",
    "        der2_0 = float(derivatives_2[i-1] if i != 0 else 0)\n",
    "        der2_1 = float(derivatives_2[i] if i != N else 0)\n",
    "\n",
    "        h = grid[i+1] - grid[i]\n",
    "        der3 = (der2_1 - der2_0) / h\n",
    "\n",
    "        f0 = float(tabulated_function[i])\n",
    "        f1 = float(tabulated_function[i+1])\n",
    "\n",
    "        der1 = (f1 - f0) / h - der2_1 * h / 6 - der2_0 * h / 3\n",
    "\n",
    "        p = Polinomial(3, [f0, der1, der2_0 / 2, der3 / 6], grid[i])\n",
    "        splines.append(p)\n",
    "    return Interpolation_func(splines, tabulated_function.grid)\n"
   ]
  },
  {
   "cell_type": "code",
   "execution_count": 31,
   "metadata": {
    "collapsed": true
   },
   "outputs": [],
   "source": [
    "# def interpolate(f_tabu):\n",
    "#     x_steps = f_tabu.grid\n",
    "#     #f_tabu = tabulated_function\n",
    "#     x_dif = [x_steps[i] - x_steps[i-1] for i in range(1, len(x_steps))]\n",
    "#     b = np.array([(f_tabu[i+1]-f_tabu[i])/x_dif[i] - (f_tabu[i]-f_tabu[i-1])/x_dif[i-1] for i in range(1, len(x_steps) - 1)])\n",
    "\n",
    "#     n = len(x_steps) - 1\n",
    "#     A = np.zeros((n - 1, n - 1))\n",
    "#     for i in range(n-2):\n",
    "#         A[i][i] = (x_dif[i] + x_dif[i+1]) / 3\n",
    "#         A[i+1][i] = x_dif[i+1] / 6\n",
    "#         A[i][i+1] = x_dif[i+1] / 6\n",
    "#     A[n-2][n-2] = (x_dif[n-2]+x_dif[n-1]) / 3\n",
    "    \n",
    "#     x_kram = [0] +  kramer(A, b) + [0]\n",
    "#     d_1 = [(f_tabu[i + 1] - f_tabu[i])/x_dif[i] - x_dif[i]*(x_kram[i+1]-x_kram[i])/6 for i in range(n)]\n",
    "#     d_2 = [f_tabu[i] - x_kram[i]*x_dif[i]*x_dif[i]/6 - d_1[i]*x_steps[i] for i in range(n)]\n",
    "#     splines = []\n",
    "#     sp_coef_cur = [0,0,0,0]\n",
    "#     for i in range(n):\n",
    "#         sp_coef_cur[0] = 1/(6*x_dif[i])*(x_kram[i+1] - x_kram[i])\n",
    "#         sp_coef_cur[1] = 1/(2*x_dif[i])*(x_kram[i]*x_steps[i+1] - x_steps[i]*x_kram[i+1])\n",
    "#         sp_coef_cur[2] = d_1[i] + 1/(6*x_dif[i])*(3*x_steps[i]*x_steps[i]*x_kram[i+1] - 3*x_steps[i+1]*x_steps[i+1]*x_kram[i])\n",
    "#         sp_coef_cur[3] = d_2[i] + 1/(6*x_dif[i])*(x_kram[i]*pow(x_steps[i + 1],3) - x_kram[i+1]*pow(x_steps[i], 3))\n",
    "#         x0 = x_steps[i]\n",
    "#         coef_poli = Polinomial(3, sp_coef_cur, x0)\n",
    "#         splines.append(coef_poli) \n",
    "#         sp_coef_cur = [0,0,0,0]\n",
    "        \n",
    "#     return Interpolation_func(splines, x_steps)\n"
   ]
  },
  {
   "cell_type": "code",
   "execution_count": 32,
   "metadata": {
    "collapsed": true
   },
   "outputs": [],
   "source": [
    "def Interpolate_steps_tabu(x_steps, f_tabu):\n",
    "    x_dif = [x_steps[i] - x_steps[i-1] for i in range(1, len(x_steps))]\n",
    "    b = np.array([(f_tabu[i+1]-f_tabu[i])/x_dif[i] - (f_tabu[i]-f_tabu[i-1])/x_dif[i-1] for i in range(1, len(x_steps) - 1)])\n",
    "\n",
    "    n = len(x_steps) - 1\n",
    "    A = np.zeros((n - 1, n - 1))\n",
    "    for i in range(n-2):\n",
    "        A[i][i] = (x_dif[i] + x_dif[i+1]) / 3\n",
    "        A[i+1][i] = x_dif[i+1] / 6\n",
    "        A[i][i+1] = x_dif[i+1] / 6\n",
    "    A[n-2][n-2] = (x_dif[n-2]+x_dif[n-1]) / 3\n",
    "    \n",
    "    x_kram = [0] +  Kramer(A, b) + [0]\n",
    "    d_1 = [(f_tabu[i + 1] - f_tabu[i])/x_dif[i] - x_dif[i]*(x_kram[i+1]-x_kram[i])/6 for i in range(n)]\n",
    "    d_2 = [f_tabu[i] - x_kram[i]*x_dif[i]*x_dif[i]/6 - d_1[i]*x_steps[i] for i in range(n)]\n",
    "    splines = []\n",
    "    sp_coef_cur = [0,0,0,0]\n",
    "    for i in range(n):\n",
    "        sp_coef_cur[0] = 1/(6*x_dif[i])*(x_kram[i+1] - x_kram[i])\n",
    "        sp_coef_cur[1] = 1/(2*x_dif[i])*(x_kram[i]*x_steps[i+1] - x_steps[i]*x_kram[i+1])\n",
    "        sp_coef_cur[2] = d_1[i] + 1/(6*x_dif[i])*(3*x_steps[i]*x_steps[i]*x_kram[i+1] - 3*x_steps[i+1]*x_steps[i+1]*x_kram[i])\n",
    "        sp_coef_cur[3] = d_2[i] + 1/(6*x_dif[i])*(x_kram[i]*pow(x_steps[i + 1],3) - x_kram[i+1]*pow(x_steps[i], 3))\n",
    "        splines.append(sp_coef_cur) \n",
    "        sp_coef_cur = [0,0,0,0]\n",
    "        \n",
    "    f_tabu_interp = []\n",
    "    x_steps_all = []\n",
    "    for i in range(n):\n",
    "        x_st = np.linspace(x_steps[i], x_steps[i+1], num=163)\n",
    "        spline = splines[i]\n",
    "        f = list(map(lambda x: spline[3] + x*spline[2] + x*x*spline[1] + x*x*x*spline[0], x_st))\n",
    "        x_steps_all += list(x_st)\n",
    "        f_tabu_interp += f\n",
    "                                \n",
    "    return f_tabu_interp, x_steps_all"
   ]
  },
  {
   "cell_type": "markdown",
   "metadata": {},
   "source": [
    "# Задача Коши"
   ]
  },
  {
   "cell_type": "code",
   "execution_count": 33,
   "metadata": {
    "collapsed": true
   },
   "outputs": [],
   "source": [
    "# табулированная x\n",
    "# табулированная y\n",
    "def diff_equastions(func1, func2, x_0, y_0, grid):\n",
    "    x = [x_0,]\n",
    "    y = [y_0,]\n",
    "    step = grid[1] - grid[0]\n",
    "    for i in range(1, len(grid)):\n",
    "        x_old = x[i - 1]\n",
    "        y_old = y[i - 1]\n",
    "        t_old = grid[i - 1]\n",
    "        x_new = x_old + step * func1(t_old, y_old)\n",
    "        y_new = y_old + step * func2(t_old, x_old)\n",
    "        if y_new < 0 or y_new > 1:\n",
    "            raise RuntimeError(\"Y must be in [0, 1]. Specify another beta.\")\n",
    "        x.append(x_new)\n",
    "        y.append(y_new)\n",
    "    return Tabulated_func(np.array(x), grid), Tabulated_func(np.array(y), grid)\n",
    "\n",
    "\n",
    "def euler_method_tow_dim (fun_x, x_0, fun_y, y_0, t_0, T, tau):\n",
    "    t_steps = np.arange(t_0, T, tau)\n",
    "    x = []\n",
    "    y = []\n",
    "    x_prev = x_0\n",
    "    y_prev = y_0\n",
    "    t_prev = t_0\n",
    "    for i in range(len(t_steps)):\n",
    "        t_prev = t_steps[i]\n",
    "        x_next = x_prev + tau * fun_x(x_prev, y_prev) # x(t_prev) # fun(t_pred, x_pred)\n",
    "        y_next = y_prev + tau * fun_y(x_prev, y_prev) # y(t_prev) # fun(t_pred, y_pred)\n",
    "        x.append(x_next)\n",
    "        y.append(y_next)\n",
    "        x_prev = x_next\n",
    "        y_prev = y_next\n",
    "    tabu_df = pd.DataFrame(columns=('t', 'x', 'y'))\n",
    "    tabu_df['t'] = t_steps\n",
    "    tabu_df['x'] = x\n",
    "    tabu_df['y'] = y\n",
    "\n",
    "    return tabu_df"
   ]
  },
  {
   "cell_type": "markdown",
   "metadata": {},
   "source": [
    "# Дифференцирование \n",
    "(Для сплайнов функций полученных при интерполяции)\n"
   ]
  },
  {
   "cell_type": "code",
   "execution_count": 34,
   "metadata": {
    "collapsed": true
   },
   "outputs": [],
   "source": [
    "# интерполяция функции кубическими сплайнами\n",
    "# интерполяция производной\n",
    "def derivative_interpolation(interpolation):\n",
    "    derivative_polinomials = []\n",
    "    for pol in interpolation.splines:\n",
    "        new_coefs = []\n",
    "        for i in range(1, len(pol.coefs)):\n",
    "            new_coefs.append(i * pol.coefs[i])\n",
    "        derivative_polinomials.append(Polinomial(pol.degree-1, new_coefs, pol.x0))\n",
    "    new_interpolation = Interpolation_func(derivative_polinomials, interpolation.grid)\n",
    "    return new_interpolation"
   ]
  },
  {
   "cell_type": "code",
   "execution_count": 35,
   "metadata": {
    "collapsed": false
   },
   "outputs": [],
   "source": [
    "grid = np.linspace(0, 10, 100)\n",
    "vals = np.sin(grid)\n",
    "interpol = interpolate(Tabulated_func(vals, grid))"
   ]
  },
  {
   "cell_type": "code",
   "execution_count": 36,
   "metadata": {
    "collapsed": false
   },
   "outputs": [],
   "source": [
    "deriv = derivative_interpolation(interpol)\n",
    "der_values = [deriv(x) for x in grid]"
   ]
  },
  {
   "cell_type": "code",
   "execution_count": 48,
   "metadata": {
    "collapsed": false
   },
   "outputs": [],
   "source": [
    "# fig, axis = plt.subplots(ncols=3, nrows=1, figsize=(20,5))\n",
    "\n",
    "# axis[0].plot(grid, vals)\n",
    "# axis[0].set_title(\"sin(x)\")\n",
    "\n",
    "# axis[1].plot(deriv.grid, der_values)\n",
    "# axis[1].set_title(\"sin'(x)\")\n",
    "\n",
    "# axis[2].plot(grid, np.cos(grid))\n",
    "# axis[2].set_title(\"cos(x)\")"
   ]
  },
  {
   "cell_type": "markdown",
   "metadata": {},
   "source": [
    "# Критерии оценивания"
   ]
  },
  {
   "cell_type": "code",
   "execution_count": 49,
   "metadata": {
    "collapsed": true
   },
   "outputs": [],
   "source": [
    "def C1_score(x_interpol, y_interpol, rho, nnodes, tgrid, T):\n",
    "    integrand_dw = lambda w: w*rho(w)\n",
    "    intergral_dw = lambda t: integrate(func=integrand_dw, nnodes=nnodes, interval=[y_interpol(t), 1])\n",
    "    integral_tab = tabulate(intergral_dw, grid=tgrid)\n",
    "    intergral_interpol = interpolate(tabulated_function=integral_tab)\n",
    "    x_deriv_interpol = derivative_interpolation(x_interpol)\n",
    "    integrand_dt = lambda t: x_deriv_interpol(t) * intergral_dw(t)\n",
    "    integral_dt = integrate(func=integrand_dt, nnodes=nnodes, interval=[0, T])\n",
    "    C1 = 1 - integral_dt / (x_interpol(T) - x_interpol(0))\n",
    "    return C1"
   ]
  },
  {
   "cell_type": "code",
   "execution_count": 50,
   "metadata": {
    "collapsed": true
   },
   "outputs": [],
   "source": [
    "def C2_score(x_interpol, S, T):\n",
    "    return abs(x_interpol(T) - S(T)) / S(T)"
   ]
  },
  {
   "cell_type": "code",
   "execution_count": 51,
   "metadata": {
    "collapsed": true
   },
   "outputs": [],
   "source": [
    "def Loss(C1_score, C2_score):\n",
    "    return C1_score + 10*C2_score"
   ]
  },
  {
   "cell_type": "markdown",
   "metadata": {},
   "source": [
    "# Корректность ввода функций"
   ]
  },
  {
   "cell_type": "code",
   "execution_count": 52,
   "metadata": {
    "collapsed": true
   },
   "outputs": [],
   "source": [
    "def verify_rho(rho):\n",
    "    return 1 == round(integrate(func=rho, nnodes=100, interval=[0, 1]), 1)\n",
    "\n",
    "def verify_zS(S, z, T):\n",
    "    z_tab = tabulate(z, grid=([t for t in np.linspace(0, T, 100)]))\n",
    "    S_tab = tabulate(S, grid=([t for t in np.linspace(0, T, 100)]))\n",
    "    z_interpol = interpolate(z_tab)\n",
    "    S_interpol = interpolate(S_tab)\n",
    "    z_deriv_interpol = derivative_interpolation(z_interpol)\n",
    "    S_deriv_interpol = derivative_interpolation(S_interpol)\n",
    "    return compare_derivatives(S_deriv_interpol, z_deriv_interpol)"
   ]
  },
  {
   "cell_type": "markdown",
   "metadata": {
    "collapsed": true
   },
   "source": [
    "# Визуализация результатов"
   ]
  },
  {
   "cell_type": "code",
   "execution_count": 53,
   "metadata": {
    "collapsed": false
   },
   "outputs": [],
   "source": [
    "# y, x, S_tab, x_0, y_0, f.beta, C1, C2, loss)\n",
    "def build_res_graphs(solutions):\n",
    "    fig, axis = plt.subplots(ncols=2, nrows=len(solutions), figsize=(15,5*len(solutions))) # , nrows=len(solutions), figsize=(15,5*len(solutions))\n",
    "    # fig, axis = plt.subplots(ncols=3, nrows=len(solutions), figsize=(15,5*len(solutions)))\n",
    "    for i in range(len(solutions)):\n",
    "        sol = solutions[i]\n",
    "        axis[0].plot(sol.y_tab.grid, sol.y_tab.values, linewidth=2)\n",
    "        axis[0].set_title(\"y(t)\", fontsize=14)\n",
    "        axis[0].set_xlabel(\"t\", fontsize=14)\n",
    "        axis[0].set_ylabel(\"y(t)\", fontsize=14)\n",
    "    \n",
    "        axis[1].plot(sol.x_tab.values, sol.S_tab.values, linewidth=2)\n",
    "        axis[1].set_title(\"S(x)\", fontsize=14)\n",
    "        axis[1].set_xlabel(\"x(t)\", fontsize=14)\n",
    "        axis[1].set_ylabel(\"S(t)\", fontsize=14)"
   ]
  },
  {
   "cell_type": "markdown",
   "metadata": {},
   "source": [
    "# Запись результатов в файл"
   ]
  },
  {
   "cell_type": "code",
   "execution_count": 54,
   "metadata": {
    "collapsed": true
   },
   "outputs": [],
   "source": [
    "def write_to_file(solutions):\n",
    "    f = open('result.txt', 'w')  # ('outputs/result.txt', 'w')\n",
    "    res = ''\n",
    "    for sol in solutions:\n",
    "        res += '\\nbeta = ' + str(sol.beta)\n",
    "        res += '\\nC1 = ' + str(sol.C1)\n",
    "        res += '\\nC2 = ' + str(sol.C2)\n",
    "        res += '\\nloss = ' + str(sol.loss)\n",
    "        res += '\\nx_0 = ' + str(sol.x_0)\n",
    "        res += '\\ny_0 = ' + str(sol.y_0)\n",
    "        res += '\\ny(t):' + str(list(zip(sol.y_tab.grid, sol.y_tab.values)))\n",
    "        res += '\\nx(t):' + str(list(zip(sol.x_tab.grid, sol.x_tab.values)))\n",
    "    f.write(res)\n",
    "    f.close()"
   ]
  },
  {
   "cell_type": "markdown",
   "metadata": {
    "collapsed": true
   },
   "source": [
    "# Решатель"
   ]
  },
  {
   "cell_type": "code",
   "execution_count": 55,
   "metadata": {
    "collapsed": true
   },
   "outputs": [],
   "source": [
    "def solver_logged(is_automatic, rho, z, S, f, y_0, x_0, T):\n",
    "    nnodes = 100\n",
    "    tgrid = np.linspace(0, T, nnodes)\n",
    "    ygrid = np.linspace(0, 1, nnodes)\n",
    "    S_tab = tabulate(function=S, grid=tgrid)\n",
    "    z_tab = tabulate(function=z, grid=tgrid)\n",
    "    z_interpol = interpolate(tabulated_function=z_tab)\n",
    "    z_derivative_interpol = derivative_interpolation(interpolation=z_interpol)\n",
    "    integral = lambda y: integrate(func=rho, nnodes=nnodes, interval=[y, 1])\n",
    "    integral_tab = tabulate(function=integral, grid=ygrid)\n",
    "    integral_interpol = interpolate(tabulated_function=integral_tab)\n",
    "    func1 = lambda t, y: z_derivative_interpol(t) * integral_interpol(y)\n",
    "    log = []\n",
    "    if is_automatic:\n",
    "        log.append(\"Automatic mode started\")\n",
    "        scores = []\n",
    "        for f_func in f:\n",
    "            try:\n",
    "                x, y = diff_equastions(func1, f_func, x_0, y_0, tgrid)\n",
    "            except:\n",
    "                continue\n",
    "            x_interpol = interpolate(tabulated_function=x)\n",
    "            y_interpol = interpolate(tabulated_function=y)\n",
    "            C1 = C1_score(x_interpol, y_interpol, rho, nnodes, tgrid, T)\n",
    "            C2 = C2_score(x_interpol, S, T)\n",
    "            loss = Loss(C1, C2)\n",
    "            scores.append(loss)\n",
    "        scores = np.array(scores)\n",
    "        if len(scores) == 0:\n",
    "            log.append(\"Unfortunatelly, no beta satisfies the requirement: y in [0, 1]\")\n",
    "            return log\n",
    "        log.append(\"Best solution:\")\n",
    "        max_score = np.max(scores)\n",
    "        log.append(\"Ф(best_beta) = \" + str(max_score))\n",
    "        best_f = f[np.argmax(scores)]\n",
    "        best_beta = best_f.beta\n",
    "        log.append(\"Best beta = \" + str(best_beta))\n",
    "        log.append(\"\")\n",
    "        log.append(\"Building solutions for different x0, y0...\")\n",
    "        x0_grid = np.linspace(0, 9, 10)\n",
    "        y0_grid = np.linspace(0, 0.9, 10)\n",
    "        solutions = []\n",
    "        for x_0, y_0 in zip(x0_grid, y0_grid):\n",
    "            log.append(\"x0 = \" + str(x_0))\n",
    "            log.append(\"y0 = \" + str(y_0))\n",
    "            try:\n",
    "                x, y = diff_equastions(func1, best_f, x_0, y_0, tgrid)\n",
    "            except:\n",
    "                log.append(\"Y not in [0,1]. Try another x0, y0. Continue...\")\n",
    "                log.append(\"\")\n",
    "                continue\n",
    "            x_interpol = interpolate(tabulated_function=x)\n",
    "            y_interpol = interpolate(tabulated_function=y)\n",
    "            C1 = C1_score(x_interpol, y_interpol, rho, nnodes, tgrid, T)\n",
    "            C2 = C2_score(x_interpol, S, T)\n",
    "            loss = Loss(C1, C2)\n",
    "            log.append(\"C1(x0, y0) = \" + str(C1))\n",
    "            log.append(\"C2(x0, y0) = \" + str(C2))\n",
    "            log.append(\"Ф(x0, y0) = \" + str(loss))\n",
    "            log.append(\"\")\n",
    "            solutions.append(Solution(y, x, S_tab, x_0, y_0, best_beta, C1, C2, loss))\n",
    "            build_res_graphs(solutions)\n",
    "            write_to_file(solutions)\n",
    "        return log\n",
    "    else:\n",
    "        log.append(\"Manual mode started\")\n",
    "        func1 = lambda t, y: z_derivative_interpol(t) * integral_interpol(y)\n",
    "        try:\n",
    "            x, y = diff_equastions(func1, f, x_0, y_0, tgrid)\n",
    "        except:\n",
    "            log.append(\"Y not in [0,1]. Try another beta.\")\n",
    "            return log\n",
    "        x_interpol = interpolate(tabulated_function=x)\n",
    "        y_interpol = interpolate(tabulated_function=y)\n",
    "        C1 = C1_score(x_interpol, y_interpol, rho, nnodes, tgrid, T)\n",
    "        C2 = C2_score(x_interpol, S, T)\n",
    "        loss = Loss(C1, C2)\n",
    "        log.append(\"C1_score = \" + str(C1))\n",
    "        log.append(\"C2_score = \" + str(C2))\n",
    "        log.append(\"Ф(beta) = \" + str(loss))\n",
    "        solution = Solution(y, x, S_tab, x_0, y_0, f.beta, C1, C2, loss)\n",
    "        build_res_graphs([solution,])\n",
    "        write_to_file([solution,])\n",
    "        return log"
   ]
  },
  {
   "cell_type": "code",
   "execution_count": 56,
   "metadata": {
    "collapsed": false
   },
   "outputs": [
    {
     "data": {
      "text/plain": [
       "['Manual mode started',\n",
       " 'C1_score = 0.5',\n",
       " 'C2_score = 0.0772989072686',\n",
       " '\\xd0\\xa4(beta) = 1.27298907269']"
      ]
     },
     "execution_count": 56,
     "metadata": {},
     "output_type": "execute_result"
    },
    {
     "data": {
      "image/png": "[encoded data removed]",
      "text/plain": [
       "<matplotlib.figure.Figure at 0x7fa78f7c2c50>"
      ]
     },
     "metadata": {},
     "output_type": "display_data"
    }
   ],
   "source": [
    "rho = lambda x: 6*x*(1-x)\n",
    "S = lambda t: 3*t + sin(t)\n",
    "z = lambda t: 4*t + cos(t)\n",
    "f = F_func(expression=\"beta*(S-x)**100\", beta=0.00000001, z_func=z, s_func=S)\n",
    "y_0 = 0\n",
    "x_0 = 0\n",
    "T = 1\n",
    "is_automatic=False\n",
    "log = solver_logged(is_automatic=False, rho=rho, z=z, S=S, f=f, y_0=y_0, x_0=x_0, T=T)\n",
    "log"
   ]
  },
  {
   "cell_type": "code",
   "execution_count": 58,
   "metadata": {
    "collapsed": false
   },
   "outputs": [
    {
     "data": {
      "text/plain": [
       "['Manual mode started',\n",
       " 'C1_score = 0.500000000305',\n",
       " 'C2_score = 0.0773034658895',\n",
       " '\\xd0\\xa4(beta) = 1.2730346592']"
      ]
     },
     "execution_count": 58,
     "metadata": {},
     "output_type": "execute_result"
    },
    {
     "data": {
      "image/png": "[encoded data removed]",
      "text/plain": [
       "<matplotlib.figure.Figure at 0x7fa78f840d50>"
      ]
     },
     "metadata": {},
     "output_type": "display_data"
    }
   ],
   "source": [
    "rho = lambda x: 6*x*(1-x)\n",
    "S = lambda t: 3*t + sin(t)\n",
    "z = lambda t: 4*t + cos(t)\n",
    "f = F_func(expression=\"beta*(S-x)\", beta=0.01, z_func=z, s_func=S)\n",
    "y_0 = 0\n",
    "x_0 = 0\n",
    "T = 1\n",
    "log = solver_logged(is_automatic=False, rho=rho, z=z, f=f, S=S, y_0=y_0, x_0=x_0, T=T)\n",
    "log"
   ]
  },
  {
   "cell_type": "markdown",
   "metadata": {},
   "source": [
    "## Описание используемых программных средств (какой язык программирования и какие библиотеки использовались)\n",
    "\n",
    "- python\n",
    "- Django, HTML\n",
    "- jupyter notebook\n",
    "\n",
    "Библиотеки:\n",
    "\n",
    "- numpy\n",
    "- pandas\n",
    "- matplotlib\n",
    "- math (sin, cos, sqrt, log, e)\n"
   ]
  },
  {
   "cell_type": "markdown",
   "metadata": {},
   "source": [
    "# Диаграмма решения системы ОДУ\n",
    "\n",
    "https://www.draw.io/#G0B_0-z0UpyvbgTzQzQ2otN2w2NEU\n",
    "\n",
    "/home/michal/Projects/ads_chm/ЧМ_Проект_Diagram.html "
   ]
  }
 ],
 "metadata": {
  "kernelspec": {
   "display_name": "Python [Root]",
   "language": "python",
   "name": "Python [Root]"
  },
  "language_info": {
   "codemirror_mode": {
    "name": "ipython",
    "version": 2
   },
   "file_extension": ".py",
   "mimetype": "text/x-python",
   "name": "python",
   "nbconvert_exporter": "python",
   "pygments_lexer": "ipython2",
   "version": "2.7.12"
  }
 },
 "nbformat": 4,
 "nbformat_minor": 0
}
