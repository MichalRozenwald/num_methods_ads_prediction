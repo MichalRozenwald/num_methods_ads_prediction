{
 "cells": [
  {
   "cell_type": "markdown",
   "metadata": {},
   "source": [
    "## Курсовой проект: рекламный сервер\n",
    "### Задание 1\n",
    "## Розенвальд Михаль"
   ]
  },
  {
   "cell_type": "markdown",
   "metadata": {},
   "source": [
    "Для того, чтобы исследовать инегрирование функций, воспользуемся сделанными ранее модулями и классами.\n",
    "\n",
    "Нам понадобятся для тестирования три класса функций: гладки(полиномы), осциллирующие (x*sinx) и разрывные.\n",
    "\n",
    "Класс функций полином. На примере полиномов будем рассматривать поведение гладких функций. "
   ]
  },
  {
   "cell_type": "code",
   "execution_count": 1,
   "metadata": {
    "collapsed": false
   },
   "outputs": [],
   "source": [
    "class Polynomial(object):\n",
    "    def __init__(self, coefficients):\n",
    "        self.coeff = coefficients\n",
    "\n",
    "    def __call__(self, x):\n",
    "        # Return polinomial value\n",
    "        s = 0\n",
    "        for i in range(len(self.coeff)):\n",
    "            s += int(self.coeff[i])*x**i\n",
    "        return s\n",
    "\n",
    "    def PolyPrint(self):\n",
    "        if (len(self.coeff) == 0):\n",
    "            return ('Empty function')\n",
    "        poly_string = ''\n",
    "        for i in range(len(self.coeff) - 1, 0, -1):\n",
    "            poly_string += str(self.coeff[i]) + 'x^' + str(i) +' + '\n",
    "        poly_string += str(self.coeff[0])\n",
    "\n",
    "        return (poly_string)\n",
    "\n",
    "    def __mul__(self, num):\n",
    "        result_coeff = list(map(int, self.coeff[:])) # copy!\n",
    "        for i in range(len(self.coeff)):\n",
    "            result_coeff[i] *= num\n",
    "        return Polynomial(result_coeff)\n",
    "\n",
    "\n",
    "    def __add__(self, other):\n",
    "        # Return self + other as Polynomial object\n",
    "        # Start with the longest list and add in the other\n",
    "        if len(self.coeff) > len(other.coeff):\n",
    "            result_coeff = list(map(int, self.coeff[:]))  # copy\n",
    "            for i in range(len(other.coeff)):\n",
    "                result_coeff[i] += int(other.coeff[i])\n",
    "        else:\n",
    "            result_coeff = list(map(int, other.coeff[:])) # copy\n",
    "            for i in range(len(self.coeff)):\n",
    "                result_coeff[i] += int(self.coeff[i])\n",
    "        return Polynomial(result_coeff)\n",
    "    \n",
    "    def differ_max(self):\n",
    "        # only for polinoms with degree <= 2\n",
    "        x_max = - float(self.coeff[1]) / (2*self.coeff[0])\n",
    "        return self.coeff[1] + 2 * self.coeff[1] * x_max\n",
    "    \n",
    "    def lambda_func(self):\n",
    "        # only for polinoms with degree <= 2\n",
    "        return lambda x: self.coeff[0] + x * self.coeff[1]\n",
    "    \n",
    "    def lambda_func_ans(self, x):\n",
    "        # only for polinoms with degree <= 2\n",
    "        return self.coeff[0] + x * self.coeff[1]\n",
    "\n"
   ]
  },
  {
   "cell_type": "code",
   "execution_count": 2,
   "metadata": {
    "collapsed": false
   },
   "outputs": [
    {
     "name": "stdout",
     "output_type": "stream",
     "text": [
      "3x^2 + 2x^1 + 1\n",
      "poly(0) =  1\n",
      "poly(1) =  6\n"
     ]
    }
   ],
   "source": [
    "poly = Polynomial([1,2,3])\n",
    "print poly.PolyPrint()\n",
    "print 'poly(0) = ', poly(0)\n",
    "print 'poly(1) = ',poly(1)"
   ]
  },
  {
   "cell_type": "markdown",
   "metadata": {},
   "source": [
    "Сделаем класс, отражающий поведение осциллирующих, на частном примере функции x*sin(x).\n"
   ]
  },
  {
   "cell_type": "code",
   "execution_count": 3,
   "metadata": {
    "collapsed": true
   },
   "outputs": [],
   "source": [
    "import numpy as np\n",
    "\n",
    "class Oscillation_sin(object):\n",
    "    # f(x) = x * sin(x)\n",
    "    def __init__(self):\n",
    "        self.coeff = 1\n",
    "        \n",
    "    def __call__(self, x):\n",
    "        # Return Oscillation_sin value\n",
    "        s = x * np.sin(x)\n",
    "        return s\n",
    "    \n",
    "    def OscPrint(self):\n",
    "        osc_string = \"x * sin(x)\"\n",
    "        return (osc_string)\n",
    "    \n",
    "    def differ_max(self):\n",
    "        return 1.819  # when x in [-5, 5]\n",
    "    \n",
    "    def lambda_func(self):\n",
    "        return lambda x: x * np.sin(x)\n"
   ]
  },
  {
   "cell_type": "code",
   "execution_count": 4,
   "metadata": {
    "collapsed": false
   },
   "outputs": [
    {
     "name": "stdout",
     "output_type": "stream",
     "text": [
      "x * sin(x)\n",
      "osc(0) =  0.0\n",
      "osc(1) =  0.841470984808\n"
     ]
    }
   ],
   "source": [
    "osc = Oscillation_sin()\n",
    "print osc.OscPrint()\n",
    "print 'osc(0) = ', osc(0)\n",
    "print 'osc(1) = ', osc(1)"
   ]
  },
  {
   "cell_type": "markdown",
   "metadata": {},
   "source": [
    "Разрывные функции будем задавать кусочно, как два разлиных полинома, заданных на интервалах poly_a на (-inf; x_0) и poly_b на [x_0; inf).\n",
    "\n",
    "$f(x) = \\begin{cases} a_1 x + a_0 & x < x_0 \\\\ b_1 x + b_0 & x \\geq x_0 \\end{cases}$"
   ]
  },
  {
   "cell_type": "code",
   "execution_count": 5,
   "metadata": {
    "collapsed": false
   },
   "outputs": [],
   "source": [
    "class Discontinuous(object):\n",
    "    # poly_a with coeffs (a_1, a_0) when x in  (-inf; x_0), esle - poly_b with coeffs (b_1, b_0)\n",
    "    def __init__(self, coefficients_a, coefficients_b, x_0):\n",
    "        self.coeff_a = coefficients_a\n",
    "        self.coeff_b = coefficients_b\n",
    "        self.poly_a = Polynomial(coefficients_a)\n",
    "        self.poly_b = Polynomial(coefficients_b)\n",
    "        self.x_0 = x_0\n",
    "\n",
    "    def __call__(self, x):\n",
    "        # Return polinomial value\n",
    "        if (x < self.x_0):\n",
    "            s = self.poly_a(x)\n",
    "        else:\n",
    "            s = self.poly_b(x)\n",
    "        return s\n",
    "    \n",
    "    def DiscontinPrint(self):\n",
    "        disc_string = self.poly_a.PolyPrint() + \" , x < \" + str(self.x_0) + '\\n' + self.poly_b.PolyPrint() + \" , x > \" + str(self.x_0) \n",
    "        return (disc_string)\n",
    "    \n",
    "    def differ_max(self):\n",
    "        return max( self.poly_a.differ_max(), self.poly_b.differ_max())\n",
    "    \n",
    "    def lambda_func(self):\n",
    "        return lambda x: (self.poly_a.coeff[0] + x * self.poly_a.coeff[0]) if x < self.x_0 else (self.poly_b.coeff[0] + x * self.poly_b.coeff[0])\n",
    "    "
   ]
  },
  {
   "cell_type": "code",
   "execution_count": 6,
   "metadata": {
    "collapsed": false,
    "scrolled": true
   },
   "outputs": [
    {
     "name": "stdout",
     "output_type": "stream",
     "text": [
      "disc function : \n",
      "2x^1 + 1 , x < 0\n",
      "3x^1 + 2 , x > 0\n",
      "disc(0) =  2\n",
      "disc(-0.1) =  0.8\n",
      "disc(0.1) =  2.3\n"
     ]
    }
   ],
   "source": [
    "disc = Discontinuous([1, 2], [2, 3], 0)\n",
    "print 'disc function : \\n', disc.DiscontinPrint()\n",
    "print 'disc(0) = ', disc(0)\n",
    "print 'disc(-0.1) = ', disc(-0.1)\n",
    "print 'disc(0.1) = ', disc(0.1)"
   ]
  },
  {
   "cell_type": "markdown",
   "metadata": {},
   "source": [
    "Кроме этого, нам необходим метод табулирования, так как мы хотим работать с поточечными заданиями функций."
   ]
  },
  {
   "cell_type": "code",
   "execution_count": 7,
   "metadata": {
    "collapsed": true
   },
   "outputs": [],
   "source": [
    "import pandas as pd\n",
    "\n",
    "def Tabulate(func, x_steps):\n",
    "    values = []\n",
    "    for i in range(len(x_steps)):\n",
    "        values.append(func(x_steps[i]))\n",
    "\n",
    "    tabu_df = pd.DataFrame(columns=('x', 'val'))\n",
    "    tabu_df['x'] = x_steps\n",
    "    tabu_df['val'] = values\n",
    "    return tabu_df"
   ]
  },
  {
   "cell_type": "code",
   "execution_count": 8,
   "metadata": {
    "collapsed": true
   },
   "outputs": [],
   "source": [
    "import matplotlib.pyplot as plt\n",
    "%matplotlib inline"
   ]
  },
  {
   "cell_type": "code",
   "execution_count": 9,
   "metadata": {
    "collapsed": false
   },
   "outputs": [
    {
     "name": "stdout",
     "output_type": "stream",
     "text": [
      "3x^2 + 2x^1 + 1\n",
      "       x       val\n",
      "0 -1.000  2.000000\n",
      "1 -0.984  1.936768\n",
      "2 -0.968  1.875072\n",
      "3 -0.952  1.814912\n",
      "4 -0.936  1.756288\n"
     ]
    },
    {
     "data": {
      "text/plain": [
       "<matplotlib.text.Text at 0x7fafd8771e90>"
      ]
     },
     "execution_count": 9,
     "metadata": {},
     "output_type": "execute_result"
    },
    {
     "data": {
      "image/png": "[encoded data removed]",
      "text/plain": [
       "<matplotlib.figure.Figure at 0x7fafdab21b90>"
      ]
     },
     "metadata": {},
     "output_type": "display_data"
    }
   ],
   "source": [
    "poly = Polynomial([1, 2, 3])\n",
    "print poly.PolyPrint()\n",
    "step_len = 0.016\n",
    "x_steps = np.arange(-1, 1, step_len)\n",
    "poly_tabu_df = Tabulate(poly, x_steps)\n",
    "print poly_tabu_df.head()\n",
    "plt.figure(figsize=(10,6))\n",
    "plt.plot(poly_tabu_df['x'], poly_tabu_df['val'], label = \"Polynomial Function\")\n",
    "plt.xlabel(\"x\")\n",
    "plt.ylabel(\"f(x)\")"
   ]
  },
  {
   "cell_type": "code",
   "execution_count": 10,
   "metadata": {
    "collapsed": false
   },
   "outputs": [
    {
     "name": "stdout",
     "output_type": "stream",
     "text": [
      "x * sin(x)\n",
      "        x       val\n",
      "0 -10.000 -5.440211\n",
      "1  -9.984 -5.296781\n",
      "2  -9.968 -5.152428\n",
      "3  -9.952 -5.007195\n",
      "4  -9.936 -4.861123\n"
     ]
    },
    {
     "data": {
      "text/plain": [
       "<matplotlib.text.Text at 0x7fafd8317890>"
      ]
     },
     "execution_count": 10,
     "metadata": {},
     "output_type": "execute_result"
    },
    {
     "data": {
      "image/png": "[encoded data removed]",
      "text/plain": [
       "<matplotlib.figure.Figure at 0x7fafd8551a10>"
      ]
     },
     "metadata": {},
     "output_type": "display_data"
    }
   ],
   "source": [
    "osc = Oscillation_sin()\n",
    "print osc.OscPrint()\n",
    "step_len = 0.016\n",
    "x_steps = np.arange(-10, 10, step_len)\n",
    "osc_tabu_df = Tabulate(osc, x_steps)\n",
    "print osc_tabu_df.head()\n",
    "\n",
    "plt.figure(figsize=(10,6))\n",
    "plt.plot(osc_tabu_df['x'], osc_tabu_df['val'], label = \"x * sin(x)\")\n",
    "plt.xlabel(\"x\")\n",
    "plt.ylabel(\"f(x)\")"
   ]
  },
  {
   "cell_type": "code",
   "execution_count": 11,
   "metadata": {
    "collapsed": false
   },
   "outputs": [
    {
     "name": "stdout",
     "output_type": "stream",
     "text": [
      "2x^1 + 1 , x < 0\n",
      "4x^1 + 3 , x > 0\n",
      "       x    val\n",
      "0 -1.000 -1.000\n",
      "1 -0.984 -0.968\n",
      "2 -0.968 -0.936\n",
      "3 -0.952 -0.904\n",
      "4 -0.936 -0.872\n"
     ]
    },
    {
     "data": {
      "text/plain": [
       "<matplotlib.text.Text at 0x7fafd8642d10>"
      ]
     },
     "execution_count": 11,
     "metadata": {},
     "output_type": "execute_result"
    },
    {
     "data": {
      "image/png": "[encoded data removed]",
      "text/plain": [
       "<matplotlib.figure.Figure at 0x7fafd8551810>"
      ]
     },
     "metadata": {},
     "output_type": "display_data"
    }
   ],
   "source": [
    "disc = Discontinuous([1,2], [3, 4], 0)\n",
    "print disc.DiscontinPrint()\n",
    "step_len = 0.016\n",
    "x_steps = np.arange(-1, 1, step_len)\n",
    "disc_tabu_df = Tabulate(disc, x_steps)\n",
    "print disc_tabu_df.head()\n",
    "\n",
    "plt.figure(figsize=(10,6))\n",
    "plt.plot(disc_tabu_df['x'], disc_tabu_df['val'], label = \"Discontinuous Function\")\n",
    "plt.xlabel(\"x\")\n",
    "plt.ylabel(\"f(x)\")"
   ]
  },
  {
   "cell_type": "markdown",
   "metadata": {},
   "source": [
    "## Руализуем модуль численного интегрирования.\n",
    "### Методом левых прямоугольников \n",
    "из семейства Ньютона-Котеса $f(x)$.\n",
    "\n",
    "\n",
    "Простая формула на отрезке $[a, b] : I = f(a) (b - a)$\n",
    "\n",
    "Составная формула для отрезка $[a, b] : I = \\sum_{i=0}^{n-1}(f(x_{i})(x_{i+1} - x_{i})) \\approx \\int_{a}^{b}f(x)dx$ , где $[x_{i}, x_{i+1}]$ - разьбиения [a, b]"
   ]
  },
  {
   "cell_type": "code",
   "execution_count": 12,
   "metadata": {
    "collapsed": true
   },
   "outputs": [],
   "source": [
    "# Для аналитически заданной функции из реализованного класса \n",
    "def integrate_func_simple(func, a, b):\n",
    "    I = func(a) * (b - a)\n",
    "    return I"
   ]
  },
  {
   "cell_type": "code",
   "execution_count": 13,
   "metadata": {
    "collapsed": true
   },
   "outputs": [],
   "source": [
    "# Для табулированной функции\n",
    "def integrate_tabu(func_tabu_df, a, b):\n",
    "    f_a = func_tabu_df[func_tabu_df['x'] == a]['val'].values[0]  # tabulated value of func at x = a\n",
    "    I = f_a * (b - a)\n",
    "    return I"
   ]
  },
  {
   "cell_type": "code",
   "execution_count": 14,
   "metadata": {
    "collapsed": false
   },
   "outputs": [],
   "source": [
    "def integrate_tabu_full(func_tabu_df):\n",
    "    steps_number = func_tabu_df.shape[0]\n",
    "    I = 0\n",
    "    for i in range(steps_number - 1):\n",
    "        I += func_tabu_df['val'][i] * (func_tabu_df['x'][i + 1] - func_tabu_df['x'][i])\n",
    "    return I"
   ]
  },
  {
   "cell_type": "code",
   "execution_count": 15,
   "metadata": {
    "collapsed": true
   },
   "outputs": [],
   "source": [
    "def integrate_rectangle(func, a, b, steps_num):\n",
    "    x_steps = np.linspace(a, b, num=steps_num)\n",
    "    func_tabu_df = Tabulate(func, x_steps)\n",
    "    return integrate_tabu_full(func_tabu_df)\n"
   ]
  },
  {
   "cell_type": "code",
   "execution_count": 1,
   "metadata": {
    "collapsed": true
   },
   "outputs": [],
   "source": [
    "def integrate_rectangle(func, a, b, steps_number):\n",
    "    x_steps = np.linspace(a, b, num=steps_number)\n",
    "    func_tabu_df = Tabulate(func, x_steps)\n",
    "    I = 0\n",
    "    for i in range(steps_number - 1):\n",
    "        I += func_tabu_df['val'][i] * (func_tabu_df['x'][i + 1] - func_tabu_df['x'][i])\n",
    "    return I\n"
   ]
  },
  {
   "cell_type": "markdown",
   "metadata": {},
   "source": [
    "### Погрешность для равномерной сетки: $E(f) = \\frac{(b-a)^2}{2n} |\\max_{x \\in [a,b]} (f'(x))|$, n - число отрезков (steps_num)\n",
    "Это является аналитической оценкой сверху.\n",
    "\n",
    "Для того, чтобы считать ошибки, добавим в классы методы вычисления максимум первой производной для частных случаев функций."
   ]
  },
  {
   "cell_type": "code",
   "execution_count": 16,
   "metadata": {
    "collapsed": true
   },
   "outputs": [],
   "source": [
    "def error_analyt(func, a, b, steps_num):\n",
    "    return float(((b - a) ** 2) * abs(func.differ_max())) / (2*steps_num)"
   ]
  },
  {
   "cell_type": "markdown",
   "metadata": {},
   "source": [
    "### Найдем практическую ошибку. \n",
    "Будем вычислять разницу между вычесленны методом левых прямоугольников интегралом и результатом интегрирования функции quad пакета scipy.integrate"
   ]
  },
  {
   "cell_type": "code",
   "execution_count": 17,
   "metadata": {
    "collapsed": false,
    "scrolled": true
   },
   "outputs": [],
   "source": [
    "from scipy.integrate import quad\n",
    "def integrate_scipy(func, a, b):\n",
    "    return quad(func.lambda_func(), a, b)[0]"
   ]
  },
  {
   "cell_type": "code",
   "execution_count": 18,
   "metadata": {
    "collapsed": true
   },
   "outputs": [],
   "source": [
    "def error_estimate(func, a, b, steps_num):\n",
    "    return abs(integrate_scipy(func, a, b) - integrate_rectangle(func, a, b, steps_num))"
   ]
  },
  {
   "cell_type": "markdown",
   "metadata": {},
   "source": [
    "### Исследуем зависимость практической ошибки от изменения размера шага сетки,\n",
    "т.е. от количества элементов на отрезке.\n",
    "\n",
    "Будем рассматривать изменения в вычислениях интегралов изменяя колличество узлов (step_nums) от 10 до 100.\n",
    "\n",
    "Для этого будем строить график разниц вычисления методом прямоугольников с различными сетками и интегралом функции quad."
   ]
  },
  {
   "cell_type": "code",
   "execution_count": 19,
   "metadata": {
    "collapsed": true
   },
   "outputs": [],
   "source": [
    "def errors_step_nums(func, a, b, show = True):    \n",
    "    step_nums = np.arange(10, 100, 1)\n",
    "    err_analyts = np.array([error_analyt(func, a, b, steps) for steps in step_nums])\n",
    "\n",
    "    I_rect = np.array([integrate_rectangle(func, a, b, steps) for steps in step_nums])\n",
    "    I_scipy = integrate_scipy(func, a, b)\n",
    "    err_estimate = np.abs(I_scipy - I_rect)\n",
    "    \n",
    "    if show:\n",
    "        plt.figure(figsize=(10,6))\n",
    "        plt.plot(step_nums, err_analyts, label='Analytical Error', color='g')\n",
    "        plt.plot(step_nums, err_estimate, label='Estimated Error', color='b')\n",
    "        plt.gca().set_xscale('log')\n",
    "        plt.gca().set_yscale('log')\n",
    "        plt.legend(loc=3)\n",
    "        plt.xlabel(\"Log(step_num)\")\n",
    "        plt.ylabel(\"Log(Error)\")\n",
    "    return step_nums, I_rect, I_scipy, err_analyts, err_estimate"
   ]
  },
  {
   "cell_type": "code",
   "execution_count": 20,
   "metadata": {
    "collapsed": false
   },
   "outputs": [
    {
     "data": {
      "image/png": "[encoded data removed]",
      "text/plain": [
       "<matplotlib.figure.Figure at 0x7fafd5f88f50>"
      ]
     },
     "metadata": {},
     "output_type": "display_data"
    }
   ],
   "source": [
    "a = 1\n",
    "b = 10\n",
    "func = Polynomial([1,2])\n",
    "step_nums, I_rect, I_scipy, err_analyts, err_estimate = errors_step_nums(func, a, b)"
   ]
  },
  {
   "cell_type": "markdown",
   "metadata": {},
   "source": [
    "## Рассмотрим применение функций вычисления интеграла на трёх типах функций, описанных выше"
   ]
  },
  {
   "cell_type": "markdown",
   "metadata": {},
   "source": [
    "### Полиномы:"
   ]
  },
  {
   "cell_type": "code",
   "execution_count": 32,
   "metadata": {
    "collapsed": false,
    "scrolled": true
   },
   "outputs": [
    {
     "name": "stdout",
     "output_type": "stream",
     "text": [
      "2x^1 + 1\n",
      "Интеграл на [ -1 , 6 ] с сеткой с  100 узлами\n",
      "\n",
      "Метод прямоугольников 41.5050505051\n",
      "Метод scipy.integrate.quad 42.0\n",
      "Отношение ошибок интегрирования (рис.1)\n"
     ]
    },
    {
     "data": {
      "image/png": "[encoded data removed]",
      "text/plain": [
       "<matplotlib.figure.Figure at 0x7fafd550b250>"
      ]
     },
     "metadata": {},
     "output_type": "display_data"
    }
   ],
   "source": [
    "poly = Polynomial([1, 2])\n",
    "print poly.PolyPrint()\n",
    "a = -1\n",
    "b = 6\n",
    "steps_num = 100\n",
    "print \"Интеграл на [\", a, \",\", b, \"] с сеткой с \", steps_num, \"узлами\\n\"\n",
    "print \"Метод прямоугольников\" , integrate_rectangle(poly, a, b, steps_num)\n",
    "print \"Метод scipy.integrate.quad\" , integrate_scipy(poly, a, b)\n",
    "print \"Отношение ошибок интегрирования (рис.1)\"\n",
    "step_nums, I_rect, I_scipy, err_analyts, err_estimate = errors_step_nums(poly, a, b, show = True)"
   ]
  },
  {
   "cell_type": "code",
   "execution_count": 35,
   "metadata": {
    "collapsed": false
   },
   "outputs": [
    {
     "name": "stdout",
     "output_type": "stream",
     "text": [
      "x * sin(x)\n",
      "Интеграл на [ -10 , 10 ] с сеткой с  1000 узлами\n",
      "\n",
      "Метод прямоугольников 15.6927915131\n",
      "Метод scipy.integrate.quad 15.6933883598\n",
      "Отношение ошибок интегрирования (рис.1)\n"
     ]
    },
    {
     "data": {
      "image/png": "[encoded data removed]",
      "text/plain": [
       "<matplotlib.figure.Figure at 0x7fafd54ea050>"
      ]
     },
     "metadata": {},
     "output_type": "display_data"
    }
   ],
   "source": [
    "osc = Oscillation_sin()\n",
    "print osc.OscPrint()\n",
    "a = -10\n",
    "b = 10\n",
    "steps_num = 1000\n",
    "print \"Интеграл на [\", a, \",\", b, \"] с сеткой с \", steps_num, \"узлами\\n\"\n",
    "print \"Метод прямоугольников\" , integrate_rectangle(osc, a, b, steps_num)\n",
    "print \"Метод scipy.integrate.quad\" , integrate_scipy(osc, a, b)\n",
    "print \"Отношение ошибок интегрирования (рис.1)\"\n",
    "step_nums, I_rect, I_scipy, err_analyts, err_estimate = errors_step_nums(osc, a, b, show = True)"
   ]
  },
  {
   "cell_type": "code",
   "execution_count": 34,
   "metadata": {
    "collapsed": false
   },
   "outputs": [
    {
     "name": "stdout",
     "output_type": "stream",
     "text": [
      "2x^1 + 1 , x < 0\n",
      "4x^1 + 3 , x > 0\n",
      "Интеграл на [ -10 , 10 ] с сеткой с  4000 узлами\n",
      "\n",
      "Метод прямоугольников 139.844967493\n",
      "Метод scipy.integrate.quad 140.0\n",
      "Отношение ошибок интегрирования (рис.1)\n"
     ]
    },
    {
     "data": {
      "image/png": "[encoded data removed]",
      "text/plain": [
       "<matplotlib.figure.Figure at 0x7fafd582dbd0>"
      ]
     },
     "metadata": {},
     "output_type": "display_data"
    }
   ],
   "source": [
    "print disc.DiscontinPrint()\n",
    "a = -10\n",
    "b = 10\n",
    "steps_num = 4000\n",
    "print \"Интеграл на [\", a, \",\", b, \"] с сеткой с \", steps_num, \"узлами\\n\"\n",
    "print \"Метод прямоугольников\" , integrate_rectangle(disc, a, b, steps_num)\n",
    "print \"Метод scipy.integrate.quad\" , integrate_scipy(disc, a, b)\n",
    "print \"Отношение ошибок интегрирования (рис.1)\"\n",
    "step_nums, I_rect, I_scipy, err_analyts, err_estimate = errors_step_nums(disc, a, b, show = True)"
   ]
  },
  {
   "cell_type": "markdown",
   "metadata": {},
   "source": [
    "### Применив оба метода вычисления интегралов (метор прямоугольников и реализованный пакетом scipy.integrate.quad) мы получили очень плизкие значения на каждом из рассмотренных случаев типов кривых."
   ]
  },
  {
   "cell_type": "markdown",
   "metadata": {},
   "source": [
    "А графики, показывающие порядок ошибки логорифма аналитической и  экспериментальной ошибки метод оказались различными.\n",
    "\n",
    "#### При этом заметим, что все кривые имеют наклон свидейтельствующий о том, что с увеличением колличества узлов в сетке (от 10 до 100), ошибка уменьшается.\n",
    "\n",
    "Для построенной гладкой функции полиному ошибки (как аналитическая, так и практическая) падают на порядок при изменении на порядок число узлов. Для функции x*sin(x) аналитическая ошибка оказалась выше и меньше изменяется, чем фактическая. А для кусочно-заданной функции наоборот, аналитическая ошибка меньше эксперементальной."
   ]
  }
 ],
 "metadata": {
  "kernelspec": {
   "display_name": "Python [Root]",
   "language": "python",
   "name": "Python [Root]"
  },
  "language_info": {
   "codemirror_mode": {
    "name": "ipython",
    "version": 2
   },
   "file_extension": ".py",
   "mimetype": "text/x-python",
   "name": "python",
   "nbconvert_exporter": "python",
   "pygments_lexer": "ipython2",
   "version": "2.7.12"
  }
 },
 "nbformat": 4,
 "nbformat_minor": 0
}
