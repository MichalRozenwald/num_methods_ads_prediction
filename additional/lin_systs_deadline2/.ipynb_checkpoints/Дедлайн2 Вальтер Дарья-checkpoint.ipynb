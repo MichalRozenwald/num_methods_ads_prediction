{
 "cells": [
  {
   "cell_type": "markdown",
   "metadata": {},
   "source": [
    "## Метод Крамера решения систем линейных уравнений\n",
    "#### Описание алгоритма\n",
    "Система линейных уравнений:\n",
    "$$Ax = F$$\n",
    "Если определитель матрицы системы A не равен нулю, то система совместна и имеет единственное решение, которое находится по формулам Крамера:\n",
    "\n",
    "$$ x_i = \\frac{\\Delta_i}{\\Delta}$$\n",
    "\n",
    "где $\\Delta$ - определитель матрицы системы, $\\Delta_i$ - определитель матрицы системы, где вместо $i$-го столбца стоит столбец F правых частей.\n",
    "\n",
    "#### Обоснование корректности\n",
    "\n",
    "Если $\\Delta \\neq 0$, то система совместна и имеет единственное решение.\n",
    "\n",
    "Допустим, $\\Delta \\neq 0$. Предположим, что $x_1, \\dots, x_n$ - единственное решение системы. Домножим $j$-ый столбец $A$ на $x_j$. Тогда определитель $\\Delta$ также умножится на $x_j$. Прибавим к $j$-ому столбцу линейную комбинацию остальных столбцов, перемноженных с $x_1, \\dots, x_{j-1}, x_{j+1}, \\dots, x_n$. При этом преобразовании определитель не изменится.\n",
    "\n",
    "Тогда в $i$-ой строке матрицы будет стоять:\n",
    "$$a_{i1}, a_{i2}, \\dots, a_{i1}x_1 + \\dots + a_{ij}x_j + \\dots + a_{in}x_n, \\dots, a_{in}$$\n",
    "Но это значит, что в $j$-ом столбце будет стоять столбец F.\n",
    "Отсюда, $$ x_i\\Delta = \\Delta_i$$ \n",
    "$$ x_i = \\frac{\\Delta_i}{\\Delta}$$\n",
    "#### Условия сходимости и применимости\n",
    "Метод Крамера применим только если определитель матрицы A не равен 0. При этом, если определитель системы равен нулю, то система может быть как совместной, так и несовместной, то есть иметь либо бесконечно много решений, либо ни одного.\n",
    "\n",
    "Соответственно метод Крамера применим, только если система имеет единственное решение."
   ]
  },
  {
   "cell_type": "code",
   "execution_count": 29,
   "metadata": {
    "collapsed": true
   },
   "outputs": [],
   "source": [
    "# A: np.array((n, m))\n",
    "# B: np.array((n, 1))\n",
    "def kramer(A, F):\n",
    "    det = np.linalg.det(A)\n",
    "    if not det:\n",
    "        raise RuntimeError(\"Решения нет, определитель равен 0\")\n",
    "    roots = []\n",
    "    for x in range(A.shape[1]):\n",
    "        tmp = A.copy()\n",
    "        tmp[:, x] = F\n",
    "        roots.append(float(np.linalg.det(tmp)) / det)\n",
    "    return roots"
   ]
  },
  {
   "cell_type": "code",
   "execution_count": 32,
   "metadata": {
    "collapsed": false
   },
   "outputs": [
    {
     "data": {
      "text/plain": [
       "[-152.00000000000009, 270.00000000000017, -253.99999999999991]"
      ]
     },
     "execution_count": 32,
     "metadata": {},
     "output_type": "execute_result"
    }
   ],
   "source": [
    "kramer(matrix, F)"
   ]
  },
  {
   "cell_type": "markdown",
   "metadata": {},
   "source": [
    "Норма матрицы\n",
    "$$||A||_{\\infty} = \\max_{1\\leq i \\leq n} \\sum_{j=1}^n |a_{ij}|$$"
   ]
  },
  {
   "cell_type": "code",
   "execution_count": 42,
   "metadata": {
    "collapsed": true
   },
   "outputs": [],
   "source": [
    "def matrixNorm(matrix):\n",
    "    return np.max(np.sum(np.abs(matrix), axis=1))"
   ]
  },
  {
   "cell_type": "markdown",
   "metadata": {},
   "source": [
    "$$ A = \\begin{bmatrix}\n",
    "    1 & 2 & 3 \\\\\n",
    "    2.0001 & 3.999 & 6 \\\\\n",
    "    15 & 3 & 6\n",
    "\\end{bmatrix},\n",
    "B = \\begin{bmatrix}\n",
    "    1 & \\frac{1}{2} & \\frac{1}{3} \\\\\n",
    "    \\frac{1}{2} & \\frac{1}{3} & \\frac{1}{4} \\\\\n",
    "    \\frac{1}{3} & \\frac{1}{4} & \\frac{1}{6}\n",
    "\\end{bmatrix},\n",
    "C = \\begin{bmatrix}\n",
    "    10^{6} & 2 \\\\\n",
    "    10^{13} & 2 \\\\\n",
    "\\end{bmatrix}$$    "
   ]
  },
  {
   "cell_type": "code",
   "execution_count": 50,
   "metadata": {
    "collapsed": false
   },
   "outputs": [
    {
     "name": "stdout",
     "output_type": "stream",
     "text": [
      "Определители матриц:\n",
      "||A|| = 0.0387\n",
      "||B|| = -0.00231481481481\n",
      "||C|| = -1.9999998e+13\n",
      "\n",
      "Матричные нормы:\n",
      "||A|| = 24.0\n",
      "||B|| = 1.83333333333\n",
      "||C|| = 10000000000002\n",
      "\n",
      "Числа обусловленности:\n",
      "Cond(A) = 72557.9534884\n",
      "Cond(B) = 143.0\n",
      "Cond(C) = 5.000001e+12\n"
     ]
    }
   ],
   "source": [
    "A = np.array(([1,2,3],[2.0001, 3.999, 6], [15,3,6]))\n",
    "B = np.array(([1, 0.5, float(1)/3],\n",
    "              [0.5, float(1)/3, 0.25],\n",
    "              [float(1)/3, 0.25, float(1)/6]))\n",
    "C = np.array(([10**6, 2], [10**13, 2]))\n",
    "print \"Определители матриц:\"\n",
    "print \"||A|| =\", np.linalg.det(A)\n",
    "print \"||B|| =\", np.linalg.det(B)\n",
    "print \"||C|| =\", np.linalg.det(C)\n",
    "\n",
    "print \"\\nМатричные нормы:\"\n",
    "print \"||A|| =\", matrixNorm(A)\n",
    "print \"||B|| =\", matrixNorm(B)\n",
    "print \"||C|| =\", matrixNorm(C)\n",
    "\n",
    "print \"\\nЧисла обусловленности:\"\n",
    "print \"Cond(A) =\", matrixNorm(A)*matrixNorm(np.linalg.inv(A))\n",
    "print \"Cond(B) =\", matrixNorm(B)*matrixNorm(np.linalg.inv(B))\n",
    "print \"Cond(C) =\", matrixNorm(C)*matrixNorm(np.linalg.inv(C))"
   ]
  },
  {
   "cell_type": "code",
   "execution_count": 73,
   "metadata": {
    "collapsed": false
   },
   "outputs": [
    {
     "name": "stdout",
     "output_type": "stream",
     "text": [
      "x = [-620.07751937985893, -8062.0077519381621, 5581.6976744187259]\n",
      "|F - Ax| = [  6.36646291e-12   1.27329258e-11   1.27329258e-11]\n"
     ]
    }
   ],
   "source": [
    "F = np.array([1, 10, 3])\n",
    "resA = kramer(A, F)\n",
    "print \"x =\", resA\n",
    "print \"|F - Ax| =\", np.abs(F - A.dot(resA))"
   ]
  },
  {
   "cell_type": "code",
   "execution_count": 74,
   "metadata": {
    "collapsed": false
   },
   "outputs": [
    {
     "name": "stdout",
     "output_type": "stream",
     "text": [
      "x = [41.999999999999979, -131.99999999999977, 131.99999999999972]\n",
      "|F - Bx| = [  3.55271368e-15   3.55271368e-15   1.33226763e-15]\n"
     ]
    }
   ],
   "source": [
    "F = np.array([20, 10, 3])\n",
    "resB = kramer(B, F)\n",
    "print \"x =\", resB\n",
    "print \"|F - Bx| =\", np.abs(F - B.dot(resB))"
   ]
  },
  {
   "cell_type": "code",
   "execution_count": 79,
   "metadata": {
    "collapsed": false
   },
   "outputs": [
    {
     "name": "stdout",
     "output_type": "stream",
     "text": [
      "x = [5.0000005000000567e-13, 2.4999997499999762]\n",
      "|F - Cx| = [  2.66453526e-15   8.88178420e-15]\n"
     ]
    }
   ],
   "source": [
    "F = [5, 10]\n",
    "resC = kramer(C, F)\n",
    "print \"x =\", resC\n",
    "print \"|F - Cx| =\", np.abs(F - C.dot(resC))"
   ]
  },
  {
   "cell_type": "markdown",
   "metadata": {},
   "source": [
    "## Модуль интерполяции кубическими сплайнами дефекта 1\n",
    "Описание метода"
   ]
  },
  {
   "cell_type": "code",
   "execution_count": null,
   "metadata": {
    "collapsed": true
   },
   "outputs": [],
   "source": []
  }
 ],
 "metadata": {
  "kernelspec": {
   "display_name": "Python [Root]",
   "language": "python",
   "name": "Python [Root]"
  },
  "language_info": {
   "codemirror_mode": {
    "name": "ipython",
    "version": 2
   },
   "file_extension": ".py",
   "mimetype": "text/x-python",
   "name": "python",
   "nbconvert_exporter": "python",
   "pygments_lexer": "ipython2",
   "version": "2.7.12"
  }
 },
 "nbformat": 4,
 "nbformat_minor": 0
}
